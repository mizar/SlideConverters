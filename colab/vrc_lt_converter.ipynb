{
  "nbformat": 4,
  "nbformat_minor": 0,
  "metadata": {
    "colab": {
      "name": "vrc-lt-converter",
      "provenance": [],
      "collapsed_sections": [],
      "include_colab_link": true
    },
    "kernelspec": {
      "name": "python3",
      "display_name": "Python 3"
    },
    "language_info": {
      "name": "python"
    }
  },
  "cells": [
    {
      "cell_type": "markdown",
      "metadata": {
        "id": "view-in-github",
        "colab_type": "text"
      },
      "source": [
        "<a href=\"https://colab.research.google.com/github/vrc-lt/SlideConverters/blob/main/colab/vrc_lt_converter.ipynb\" target=\"_parent\"><img src=\"https://colab.research.google.com/assets/colab-badge.svg\" alt=\"Open In Colab\"/></a>"
      ]
    },
    {
      "cell_type": "markdown",
      "source": [
        "# VRC-LT スライド変換ツール\n",
        "pdf形式スライドファイルを、1ページあたり2秒・画面アスペクト比16:9のmp4動画ファイルに変換します。\n",
        "\n",
        "出力する解像度を選択してから、ランタイム→すべてのセルを実行(Ctrl+F9)で処理を開始し、変換したいpdfファイルをアップロードしてください。処理が終了したら、変換後のmp4ファイルをダウンロードできます。"
      ],
      "metadata": {
        "id": "OJ6zTFo8AlRF"
      }
    },
    {
      "cell_type": "code",
      "source": [
        "#@title 出力解像度を選択してからランタイムを実行してください\n",
        "output_resolution = \"720p\" #@param [\"720p\", \"1080p\", \"1440p\", \"2160p\"]\n",
        "output_resolution_xy = {\"720p\": (1280, 720), \"1080p\": (1920, 1080), \"1440p\": (2560, 1440), \"2160p\": (3840, 2160)}[output_resolution]"
      ],
      "metadata": {
        "cellView": "form",
        "id": "2dYRIaO-fAol"
      },
      "execution_count": null,
      "outputs": []
    },
    {
      "cell_type": "code",
      "source": [
        "#@title pdfファイルをアップロードしてください\n",
        "from google.colab import files\n",
        "import os\n",
        "!rm -f *.pdf\n",
        "result = files.upload()\n",
        "pdf_file_name = list(result.keys())[0]\n",
        "base_file_name = os.path.splitext(pdf_file_name)[0]"
      ],
      "metadata": {
        "cellView": "form",
        "id": "ke7xDndQfVoG"
      },
      "execution_count": null,
      "outputs": []
    },
    {
      "cell_type": "code",
      "source": [
        "#@title 環境をセットアップしています...\n",
        "!sudo apt update\n",
        "!sudo apt install --no-install-recommends ffmpeg poppler-utils poppler-data fonts-liberation2 fonts-noto-cjk\n",
        "!mkdir -p ~/.config/fontconfig/\n",
        "!echo -e \"<?xml version='1.0'?>\\n<!DOCTYPE fontconfig SYSTEM 'fonts.dtd'>\\n<fontconfig>\\n<alias><family>serif</family><prefer><family>Noto Serif</family><family>Noto Serif CJK JP</family></prefer></alias>\\n<alias><family>sans-serif</family><prefer><family>Noto Sans</family><family>Noto Sans CJK JP</family></prefer></alias>\\n<alias><family>monospace</family><prefer><family>Noto Sans Mono</family><family>Noto Sans Mono CJK JP</family></prefer></alias>\\n<alias><family>Ryumin</family><prefer><family>Noto Serif</family><family>Noto Serif CJK JP</family></prefer></alias>\\n<alias><family>GothicBBB</family><prefer><family>Noto Sans</family><family>Noto Sans CJK JP</family></prefer></alias>\\n</fontconfig>\" > ~/.config/fontconfig/fonts.conf\n",
        "!fc-cache -f"
      ],
      "metadata": {
        "id": "imAz2ee-Zell",
        "cellView": "form"
      },
      "execution_count": null,
      "outputs": []
    },
    {
      "cell_type": "code",
      "source": [
        "#@title 変換しています...\n",
        "output_resolution_x = output_resolution_xy[0]\n",
        "output_resolution_y = output_resolution_xy[1]\n",
        "mp4_file_name = base_file_name + \".\" + str(output_resolution_y) + \"p.mp4\"\n",
        "!rm -f image-*.png *.mp4\n",
        "!echo -e \"\\e[36;1m[pdftoppm]\\e[0m $pdf_file_name -> image-*.png $output_resolution_xy\"\n",
        "!pdftoppm -scale-to-x -1 -scale-to-y $output_resolution_y -png \"$pdf_file_name\" image\n",
        "!echo -e \"\\e[36;1m[ffmpeg]\\e[0m image-*.png -> $mp4_file_name\"\n",
        "!ffmpeg -y -pattern_type glob -r 1/2 -i \"image-*.png\" -vf \"crop=min(ih*16/9\\,iw):ih,scale=-2:$output_resolution_y:flags=lanczos,pad=x=-2:aspect=16/9\" -c:v libx264 -r 30 -pix_fmt yuv420p -bf 0 \"$mp4_file_name\""
      ],
      "metadata": {
        "id": "X5_YlHOgeLIY",
        "cellView": "form"
      },
      "execution_count": null,
      "outputs": []
    },
    {
      "cell_type": "code",
      "source": [
        "#@title mp4ファイルをダウンロードします...\n",
        "files.download(mp4_file_name)"
      ],
      "metadata": {
        "id": "ykJ1MMQRi2Wj",
        "cellView": "form"
      },
      "execution_count": null,
      "outputs": []
    },
    {
      "cell_type": "markdown",
      "source": [],
      "metadata": {
        "id": "HLyKQWM-lIC8"
      }
    }
  ]
}